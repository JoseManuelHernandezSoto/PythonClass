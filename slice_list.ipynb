{
  "nbformat": 4,
  "nbformat_minor": 0,
  "metadata": {
    "colab": {
      "provenance": []
    },
    "kernelspec": {
      "name": "python3",
      "display_name": "Python 3"
    },
    "language_info": {
      "name": "python"
    }
  },
  "cells": [
    {
      "cell_type": "markdown",
      "source": [
        "# List Slicing"
      ],
      "metadata": {
        "id": "EsB2e2_KFczq"
      }
    },
    {
      "cell_type": "code",
      "execution_count": null,
      "metadata": {
        "colab": {
          "base_uri": "https://localhost:8080/"
        },
        "id": "TTBDi8W2FMDu",
        "outputId": "80792b8b-7f23-45f8-9ce0-f2369dbc61a8"
      },
      "outputs": [
        {
          "output_type": "stream",
          "name": "stdout",
          "text": [
            "two\n",
            "['one', 'two', 'three', 'four', 'five']\n",
            "<class 'list'>\n",
            "['two', 'three', 'four']\n"
          ]
        }
      ],
      "source": [
        "players = ['one','two','three','four','five']\n",
        "print(players[1])\n",
        "print(players)\n",
        "print(type(players))\n",
        "print(players[1:4])"
      ]
    },
    {
      "cell_type": "code",
      "source": [
        "print(players[0:1])\n",
        "print(players[:3])"
      ],
      "metadata": {
        "colab": {
          "base_uri": "https://localhost:8080/"
        },
        "id": "RCbiIgNeGNH3",
        "outputId": "16f9c6b3-cd79-4439-81d3-662328a4a065"
      },
      "execution_count": null,
      "outputs": [
        {
          "output_type": "stream",
          "name": "stdout",
          "text": [
            "['one']\n",
            "['one', 'two', 'three']\n"
          ]
        }
      ]
    },
    {
      "cell_type": "code",
      "source": [
        "print(players[2:])"
      ],
      "metadata": {
        "colab": {
          "base_uri": "https://localhost:8080/"
        },
        "id": "WdWHwrflG_ut",
        "outputId": "a8c61f83-28eb-4552-e96d-08a267a2a74e"
      },
      "execution_count": null,
      "outputs": [
        {
          "output_type": "stream",
          "name": "stdout",
          "text": [
            "['three', 'four', 'five']\n"
          ]
        }
      ]
    },
    {
      "cell_type": "code",
      "source": [
        "print(players[:])"
      ],
      "metadata": {
        "colab": {
          "base_uri": "https://localhost:8080/"
        },
        "id": "GCUCw79iHOtw",
        "outputId": "e0265076-01a1-4014-f03f-57c2213e418d"
      },
      "execution_count": null,
      "outputs": [
        {
          "output_type": "stream",
          "name": "stdout",
          "text": [
            "['one', 'two', 'three', 'four', 'five']\n"
          ]
        }
      ]
    },
    {
      "cell_type": "code",
      "source": [
        "print(players[-1])\n",
        "print(players[:-1])\n",
        "print(players[-3:])\n",
        "print(players[-5:-2])"
      ],
      "metadata": {
        "colab": {
          "base_uri": "https://localhost:8080/"
        },
        "id": "zOnNcOMOHTrV",
        "outputId": "4cbfdccb-b5e6-42e2-dd87-5b6055caddfa"
      },
      "execution_count": null,
      "outputs": [
        {
          "output_type": "stream",
          "name": "stdout",
          "text": [
            "five\n",
            "['one', 'two', 'three', 'four']\n",
            "['three', 'four', 'five']\n",
            "['one', 'two', 'three']\n"
          ]
        }
      ]
    },
    {
      "cell_type": "code",
      "source": [
        "firts_index = -5\n",
        "print(players[firts_index:])"
      ],
      "metadata": {
        "colab": {
          "base_uri": "https://localhost:8080/"
        },
        "id": "sKO2rDwjHopF",
        "outputId": "8acc2726-93cd-4da3-dae1-1afe16192810"
      },
      "execution_count": null,
      "outputs": [
        {
          "output_type": "stream",
          "name": "stdout",
          "text": [
            "['one', 'two', 'three', 'four', 'five']\n"
          ]
        }
      ]
    },
    {
      "cell_type": "code",
      "source": [
        "players.append('six')\n",
        "players.append('seven')\n",
        "players.append('eight')\n",
        "players.append('nine')\n",
        "players.append('ten')"
      ],
      "metadata": {
        "id": "VotJ4vpaJlEN"
      },
      "execution_count": null,
      "outputs": []
    },
    {
      "cell_type": "code",
      "source": [
        "print(players)\n",
        "print(players[3:9:2])\n",
        "print(players[::2])\n",
        "print(players[1::2])"
      ],
      "metadata": {
        "colab": {
          "base_uri": "https://localhost:8080/"
        },
        "id": "y7svYsB8KK5t",
        "outputId": "47773dc7-a5df-47ed-a6a1-8f02299137c6"
      },
      "execution_count": null,
      "outputs": [
        {
          "output_type": "stream",
          "name": "stdout",
          "text": [
            "['one', 'two', 'three', 'four', 'five', 'six', 'seven', 'eight', 'nine', 'ten']\n",
            "['four', 'six', 'eight']\n",
            "['one', 'three', 'five', 'seven', 'nine']\n",
            "['two', 'four', 'six', 'eight', 'ten']\n"
          ]
        }
      ]
    },
    {
      "cell_type": "code",
      "source": [
        "numbers = list(range(1,11))\n",
        "print(numbers)\n",
        "print(len(numbers))\n",
        "\n",
        "print(numbers[::-1])"
      ],
      "metadata": {
        "colab": {
          "base_uri": "https://localhost:8080/"
        },
        "id": "okk3ZEwmLjYf",
        "outputId": "db34723c-62d7-4b4e-8f30-fd5df671739a"
      },
      "execution_count": null,
      "outputs": [
        {
          "output_type": "stream",
          "name": "stdout",
          "text": [
            "[1, 2, 3, 4, 5, 6, 7, 8, 9, 10]\n",
            "10\n",
            "[10, 9, 8, 7, 6, 5, 4, 3, 2, 1]\n"
          ]
        }
      ]
    },
    {
      "cell_type": "code",
      "source": [
        "word = 'tenet'\n",
        "if word == word[::-1]:\n",
        "  print('Es palindromo')\n",
        "else:\n",
        "  print('No es un palindromo')\n"
      ],
      "metadata": {
        "colab": {
          "base_uri": "https://localhost:8080/"
        },
        "id": "qe_ktuQdMuPG",
        "outputId": "83fd9f52-0c95-413b-e637-64389aa6d85d"
      },
      "execution_count": 2,
      "outputs": [
        {
          "output_type": "stream",
          "name": "stdout",
          "text": [
            "No es un palindromo\n"
          ]
        }
      ]
    }
  ]
}